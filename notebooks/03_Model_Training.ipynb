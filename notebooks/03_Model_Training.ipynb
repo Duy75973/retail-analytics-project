{
 "cells": [
  {
   "cell_type": "code",
   "execution_count": 8,
   "id": "aacd3029",
   "metadata": {
    "vscode": {
     "languageId": "plaintext"
    }
   },
   "outputs": [
    {
     "name": "stdout",
     "output_type": "stream",
     "text": [
      "Requirement already satisfied: scikit-learn in c:\\python313\\lib\\site-packages (1.7.2)\n",
      "Requirement already satisfied: numpy>=1.22.0 in c:\\python313\\lib\\site-packages (from scikit-learn) (2.3.3)\n",
      "Requirement already satisfied: scipy>=1.8.0 in c:\\python313\\lib\\site-packages (from scikit-learn) (1.16.2)\n",
      "Requirement already satisfied: joblib>=1.2.0 in c:\\python313\\lib\\site-packages (from scikit-learn) (1.5.2)\n",
      "Requirement already satisfied: threadpoolctl>=3.1.0 in c:\\python313\\lib\\site-packages (from scikit-learn) (3.6.0)\n"
     ]
    },
    {
     "name": "stderr",
     "output_type": "stream",
     "text": [
      "\n",
      "[notice] A new release of pip is available: 25.0.1 -> 25.2\n",
      "[notice] To update, run: python.exe -m pip install --upgrade pip\n"
     ]
    }
   ],
   "source": [
    "!pip install scikit-learn"
   ]
  },
  {
   "cell_type": "code",
   "execution_count": 9,
   "id": "62befac7",
   "metadata": {
    "vscode": {
     "languageId": "plaintext"
    }
   },
   "outputs": [
    {
     "name": "stdout",
     "output_type": "stream",
     "text": [
      "Các thư viện cho việc huấn luyện mô hình đã sẵn sàng.\n"
     ]
    }
   ],
   "source": [
    "import pandas as pd\n",
    "from sklearn.model_selection import train_test_split\n",
    "from sklearn.preprocessing import StandardScaler\n",
    "from sklearn.pipeline import Pipeline\n",
    "from sklearn.ensemble import RandomForestClassifier\n",
    "from sklearn.metrics import classification_report, roc_auc_score, confusion_matrix, ConfusionMatrixDisplay\n",
    "import joblib\n",
    "import matplotlib.pyplot as plt\n",
    "\n",
    "print(\"Các thư viện cho việc huấn luyện mô hình đã sẵn sàng.\")"
   ]
  },
  {
   "cell_type": "code",
   "execution_count": 10,
   "id": "6b4a047d",
   "metadata": {
    "vscode": {
     "languageId": "plaintext"
    }
   },
   "outputs": [
    {
     "name": "stdout",
     "output_type": "stream",
     "text": [
      "Đã tải 4338 dòng dữ liệu khách hàng.\n",
      "<class 'pandas.core.frame.DataFrame'>\n",
      "RangeIndex: 4338 entries, 0 to 4337\n",
      "Data columns (total 4 columns):\n",
      " #   Column         Non-Null Count  Dtype  \n",
      "---  ------         --------------  -----  \n",
      " 0   Recency        4338 non-null   int64  \n",
      " 1   Frequency      4338 non-null   int64  \n",
      " 2   MonetaryValue  4338 non-null   float64\n",
      " 3   Churn          4338 non-null   int64  \n",
      "dtypes: float64(1), int64(3)\n",
      "memory usage: 135.7 KB\n"
     ]
    },
    {
     "data": {
      "text/html": [
       "<div>\n",
       "<style scoped>\n",
       "    .dataframe tbody tr th:only-of-type {\n",
       "        vertical-align: middle;\n",
       "    }\n",
       "\n",
       "    .dataframe tbody tr th {\n",
       "        vertical-align: top;\n",
       "    }\n",
       "\n",
       "    .dataframe thead th {\n",
       "        text-align: right;\n",
       "    }\n",
       "</style>\n",
       "<table border=\"1\" class=\"dataframe\">\n",
       "  <thead>\n",
       "    <tr style=\"text-align: right;\">\n",
       "      <th></th>\n",
       "      <th>Recency</th>\n",
       "      <th>Frequency</th>\n",
       "      <th>MonetaryValue</th>\n",
       "      <th>Churn</th>\n",
       "    </tr>\n",
       "  </thead>\n",
       "  <tbody>\n",
       "    <tr>\n",
       "      <th>0</th>\n",
       "      <td>326</td>\n",
       "      <td>1</td>\n",
       "      <td>77183.60</td>\n",
       "      <td>1</td>\n",
       "    </tr>\n",
       "    <tr>\n",
       "      <th>1</th>\n",
       "      <td>2</td>\n",
       "      <td>7</td>\n",
       "      <td>4310.00</td>\n",
       "      <td>0</td>\n",
       "    </tr>\n",
       "    <tr>\n",
       "      <th>2</th>\n",
       "      <td>75</td>\n",
       "      <td>4</td>\n",
       "      <td>1797.24</td>\n",
       "      <td>0</td>\n",
       "    </tr>\n",
       "    <tr>\n",
       "      <th>3</th>\n",
       "      <td>19</td>\n",
       "      <td>1</td>\n",
       "      <td>1757.55</td>\n",
       "      <td>0</td>\n",
       "    </tr>\n",
       "    <tr>\n",
       "      <th>4</th>\n",
       "      <td>310</td>\n",
       "      <td>1</td>\n",
       "      <td>334.40</td>\n",
       "      <td>1</td>\n",
       "    </tr>\n",
       "  </tbody>\n",
       "</table>\n",
       "</div>"
      ],
      "text/plain": [
       "   Recency  Frequency  MonetaryValue  Churn\n",
       "0      326          1       77183.60      1\n",
       "1        2          7        4310.00      0\n",
       "2       75          4        1797.24      0\n",
       "3       19          1        1757.55      0\n",
       "4      310          1         334.40      1"
      ]
     },
     "execution_count": 10,
     "metadata": {},
     "output_type": "execute_result"
    }
   ],
   "source": [
    "# Đường dẫn tới file dữ liệu\n",
    "processed_data_path = '../data/processed/customer_features.csv'\n",
    "\n",
    "# Đọc dữ liệu\n",
    "df = pd.read_csv(processed_data_path)\n",
    "\n",
    "# Kiểm tra dữ liệu\n",
    "print(f\"Đã tải {len(df)} dòng dữ liệu khách hàng.\")\n",
    "df.info()\n",
    "df.head()"
   ]
  },
  {
   "cell_type": "code",
   "execution_count": 11,
   "id": "e5a3dc73",
   "metadata": {
    "vscode": {
     "languageId": "plaintext"
    }
   },
   "outputs": [
    {
     "name": "stdout",
     "output_type": "stream",
     "text": [
      "Kích thước tập huấn luyện: (3470, 3)\n",
      "Kích thước tập kiểm tra: (868, 3)\n"
     ]
    }
   ],
   "source": [
    "# Xác định features (X) và target (y)\n",
    "X = df[['Recency', 'Frequency', 'MonetaryValue']]\n",
    "y = df['Churn']\n",
    "\n",
    "# Phân chia dữ liệu thành tập huấn luyện (80%) và tập kiểm tra (20%)\n",
    "# stratify=y đảm bảo tỷ lệ churn/non-churn trong tập train và test là như nhau\n",
    "X_train, X_test, y_train, y_test = train_test_split(\n",
    "    X, y,\n",
    "    test_size=0.2,\n",
    "    random_state=42, # Để kết quả có thể tái lập\n",
    "    stratify=y\n",
    ")\n",
    "\n",
    "print(f\"Kích thước tập huấn luyện: {X_train.shape}\")\n",
    "print(f\"Kích thước tập kiểm tra: {X_test.shape}\")"
   ]
  },
  {
   "cell_type": "code",
   "execution_count": 12,
   "id": "b905cf9a",
   "metadata": {
    "vscode": {
     "languageId": "plaintext"
    }
   },
   "outputs": [
    {
     "name": "stdout",
     "output_type": "stream",
     "text": [
      "Pipeline đã được xây dựng.\n"
     ]
    }
   ],
   "source": [
    "# Xây dựng pipeline\n",
    "# class_weight='balanced' giúp mô hình chú ý hơn đến lớp thiểu số (churn), rất hữu ích khi dữ liệu mất cân bằng.\n",
    "pipeline = Pipeline([\n",
    "    ('scaler', StandardScaler()),\n",
    "    ('model', RandomForestClassifier(n_estimators=100, random_state=42, class_weight='balanced'))\n",
    "])\n",
    "\n",
    "print(\"Pipeline đã được xây dựng.\")"
   ]
  },
  {
   "cell_type": "code",
   "execution_count": 13,
   "id": "ef7c7b14",
   "metadata": {
    "vscode": {
     "languageId": "plaintext"
    }
   },
   "outputs": [
    {
     "name": "stdout",
     "output_type": "stream",
     "text": [
      "Bắt đầu huấn luyện mô hình...\n",
      "Huấn luyện hoàn tất!\n",
      "\n",
      "--- Báo cáo Phân loại (Classification Report) ---\n",
      "              precision    recall  f1-score   support\n",
      "\n",
      "           0       1.00      1.00      1.00       578\n",
      "           1       1.00      1.00      1.00       290\n",
      "\n",
      "    accuracy                           1.00       868\n",
      "   macro avg       1.00      1.00      1.00       868\n",
      "weighted avg       1.00      1.00      1.00       868\n",
      "\n",
      "Điểm ROC AUC: 1.0000\n"
     ]
    },
    {
     "data": {
      "image/png": "[encoded data removed]",
      "text/plain": [
       "<Figure size 640x480 with 2 Axes>"
      ]
     },
     "metadata": {},
     "output_type": "display_data"
    }
   ],
   "source": [
    "# Huấn luyện pipeline trên dữ liệu training\n",
    "print(\"Bắt đầu huấn luyện mô hình...\")\n",
    "pipeline.fit(X_train, y_train)\n",
    "print(\"Huấn luyện hoàn tất!\")\n",
    "\n",
    "# Đưa ra dự đoán trên dữ liệu test\n",
    "y_pred = pipeline.predict(X_test)\n",
    "y_pred_proba = pipeline.predict_proba(X_test)[:, 1] # Lấy xác suất cho lớp churn (1)\n",
    "\n",
    "# Đánh giá mô hình\n",
    "print(\"\\n--- Báo cáo Phân loại (Classification Report) ---\")\n",
    "print(classification_report(y_test, y_pred))\n",
    "\n",
    "# Tính điểm ROC AUC\n",
    "roc_auc = roc_auc_score(y_test, y_pred_proba)\n",
    "print(f\"Điểm ROC AUC: {roc_auc:.4f}\")\n",
    "\n",
    "# Vẽ ma trận nhầm lẫn (Confusion Matrix)\n",
    "cm = confusion_matrix(y_test, y_pred)\n",
    "disp = ConfusionMatrixDisplay(confusion_matrix=cm)\n",
    "disp.plot()\n",
    "plt.title('Ma trận nhầm lẫn')\n",
    "plt.show()"
   ]
  },
  {
   "cell_type": "code",
   "execution_count": 15,
   "id": "d06bd91f",
   "metadata": {
    "vscode": {
     "languageId": "plaintext"
    }
   },
   "outputs": [
    {
     "name": "stdout",
     "output_type": "stream",
     "text": [
      "\n",
      "Mô hình đã được lưu thành công tại: ../models/churn_predictor.joblib\n"
     ]
    }
   ],
   "source": [
    "# Đường dẫn để lưu model\n",
    "model_path = '../models/churn_predictor.joblib'\n",
    "\n",
    "# Dùng joblib để lưu pipeline\n",
    "joblib.dump(pipeline, model_path)\n",
    "\n",
    "print(f\"\\nMô hình đã được lưu thành công tại: {model_path}\")"
   ]
  },
  {
   "cell_type": "code",
   "execution_count": null,
   "id": "ef6427f2-33b8-4c34-bfa1-b21904881ff4",
   "metadata": {},
   "outputs": [],
   "source": []
  }
 ],
 "metadata": {
  "kernelspec": {
   "display_name": "Python 3 (ipykernel)",
   "language": "python",
   "name": "python3"
  },
  "language_info": {
   "codemirror_mode": {
    "name": "ipython",
    "version": 3
   },
   "file_extension": ".py",
   "mimetype": "text/x-python",
   "name": "python",
   "nbconvert_exporter": "python",
   "pygments_lexer": "ipython3",
   "version": "3.13.3"
  }
 },
 "nbformat": 4,
 "nbformat_minor": 5
}
