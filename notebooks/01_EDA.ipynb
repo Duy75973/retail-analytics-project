{
 "cells": [
  {
   "cell_type": "code",
   "execution_count": null,
   "id": "d81b740e",
   "metadata": {
    "vscode": {
     "languageId": "plaintext"
    }
   },
   "outputs": [
    {
     "name": "stdout",
     "output_type": "stream",
     "text": [
      "Requirement already satisfied: matplotlib in c:\\python313\\lib\\site-packages (3.10.6)\n",
      "Collecting seaborn\n",
      "  Downloading seaborn-0.13.2-py3-none-any.whl.metadata (5.4 kB)\n",
      "Requirement already satisfied: contourpy>=1.0.1 in c:\\python313\\lib\\site-packages (from matplotlib) (1.3.3)\n",
      "Requirement already satisfied: cycler>=0.10 in c:\\python313\\lib\\site-packages (from matplotlib) (0.12.1)\n",
      "Requirement already satisfied: fonttools>=4.22.0 in c:\\python313\\lib\\site-packages (from matplotlib) (4.60.0)\n",
      "Requirement already satisfied: kiwisolver>=1.3.1 in c:\\python313\\lib\\site-packages (from matplotlib) (1.4.9)\n",
      "Requirement already satisfied: numpy>=1.23 in c:\\python313\\lib\\site-packages (from matplotlib) (2.3.3)\n",
      "Requirement already satisfied: packaging>=20.0 in c:\\python313\\lib\\site-packages (from matplotlib) (25.0)\n",
      "Requirement already satisfied: pillow>=8 in c:\\python313\\lib\\site-packages (from matplotlib) (11.3.0)\n",
      "Requirement already satisfied: pyparsing>=2.3.1 in c:\\python313\\lib\\site-packages (from matplotlib) (3.2.5)\n",
      "Requirement already satisfied: python-dateutil>=2.7 in c:\\python313\\lib\\site-packages (from matplotlib) (2.9.0.post0)\n",
      "Requirement already satisfied: pandas>=1.2 in c:\\python313\\lib\\site-packages (from seaborn) (2.3.2)\n",
      "Requirement already satisfied: pytz>=2020.1 in c:\\python313\\lib\\site-packages (from pandas>=1.2->seaborn) (2025.2)\n",
      "Requirement already satisfied: tzdata>=2022.7 in c:\\python313\\lib\\site-packages (from pandas>=1.2->seaborn) (2025.2)\n",
      "Requirement already satisfied: six>=1.5 in c:\\python313\\lib\\site-packages (from python-dateutil>=2.7->matplotlib) (1.17.0)\n",
      "Downloading seaborn-0.13.2-py3-none-any.whl (294 kB)\n",
      "Installing collected packages: seaborn\n",
      "Successfully installed seaborn-0.13.2\n"
     ]
    },
    {
     "name": "stderr",
     "output_type": "stream",
     "text": [
      "\n",
      "[notice] A new release of pip is available: 25.0.1 -> 25.2\n",
      "[notice] To update, run: python.exe -m pip install --upgrade pip\n"
     ]
    }
   ],
   "source": [
    "!pip install matplotlib seaborn"
   ]
  },
  {
   "cell_type": "code",
   "execution_count": null,
   "id": "8dc075c3",
   "metadata": {
    "vscode": {
     "languageId": "plaintext"
    }
   },
   "outputs": [
    {
     "name": "stdout",
     "output_type": "stream",
     "text": [
      "Các thư viện đã sẵn sàng!\n"
     ]
    }
   ],
   "source": [
    "# Import các thư viện cần thiết\n",
    "import pandas as pd\n",
    "import matplotlib.pyplot as plt\n",
    "import seaborn as sns\n",
    "from sqlalchemy import create_engine\n",
    "import os\n",
    "from dotenv import load_dotenv\n",
    "\n",
    "# Cài đặt cho đồ thị đẹp hơn\n",
    "sns.set_style('whitegrid')\n",
    "plt.rcParams['figure.figsize'] = (12, 8)\n",
    "\n",
    "print(\"Các thư viện đã sẵn sàng!\")"
   ]
  },
  {
   "cell_type": "code",
   "execution_count": null,
   "id": "be994eab",
   "metadata": {
    "vscode": {
     "languageId": "plaintext"
    }
   },
   "outputs": [],
   "source": [
    "# Tải các biến môi trường từ file .env\n",
    "load_dotenv()\n",
    "\n",
    "# Lấy thông tin kết nối database\n",
    "db_user = os.getenv(\"MYSQL_USER\")\n",
    "db_password = os.getenv(\"MYSQL_PASSWORD\")\n",
    "db_host = os.getenv(\"MYSQL_HOST\")\n",
    "db_port = os.getenv(\"MYSQL_PORT\")\n",
    "db_name = os.getenv(\"MYSQL_DATABASE\")\n",
    "\n",
    "# Tạo chuỗi kết nối và engine\n",
    "connection_string = f\"mysql+pymysql://{db_user}:{db_password}@{db_host}:{db_port}/{db_name}\"\n",
    "engine = create_engine(connection_string)\n",
    "\n",
    "# Viết câu truy vấn SQL để lấy toàn bộ dữ liệu\n",
    "query = \"SELECT * FROM transactions\"\n",
    "\n",
    "# Đọc dữ liệu từ SQL vào DataFrame của pandas\n",
    "df = pd.read_sql(query, engine)\n",
    "\n",
    "# Kiểm tra xem dữ liệu đã được tải đúng chưa\n",
    "print(f\"Đã tải thành công {len(df)} dòng dữ liệu.\")\n",
    "df.info()\n",
    "df.head()"
   ]
  },
  {
   "cell_type": "code",
   "execution_count": null,
   "id": "d0ec2285",
   "metadata": {
    "vscode": {
     "languageId": "plaintext"
    }
   },
   "outputs": [],
   "source": [
    "# Tính toán cột doanh thu\n",
    "df['revenue'] = df['quantity'] * df['unitprice']\n",
    "\n",
    "# Chuyển invoicedate thành index để dễ dàng resample\n",
    "df_time = df.set_index('invoicedate')\n",
    "\n",
    "# Resample dữ liệu theo tháng và tính tổng doanh thu\n",
    "monthly_revenue = df_time['revenue'].resample('M').sum()\n",
    "\n",
    "# Vẽ biểu đồ\n",
    "plt.figure(figsize=(15, 7))\n",
    "monthly_revenue.plot(title='Doanh thu hàng tháng', marker='o')\n",
    "plt.xlabel('Tháng')\n",
    "plt.ylabel('Tổng Doanh thu')\n",
    "plt.show()"
   ]
  },
  {
   "cell_type": "code",
   "execution_count": null,
   "id": "9c25ce91",
   "metadata": {
    "vscode": {
     "languageId": "plaintext"
    }
   },
   "outputs": [],
   "source": [
    "# Nhóm theo quốc gia và tính tổng doanh thu\n",
    "country_revenue = df.groupby('country')['revenue'].sum().sort_values(ascending=False)\n",
    "\n",
    "# Lấy top 10 quốc gia\n",
    "top_10_countries = country_revenue.head(10)\n",
    "\n",
    "# Vẽ biểu đồ cột\n",
    "plt.figure(figsize=(15, 7))\n",
    "sns.barplot(x=top_10_countries.index, y=top_10_countries.values, palette='viridis')\n",
    "plt.title('Top 10 quốc gia có doanh thu cao nhất')\n",
    "plt.xlabel('Quốc gia')\n",
    "plt.ylabel('Tổng Doanh thu')\n",
    "plt.xticks(rotation=45)\n",
    "plt.show()"
   ]
  },
  {
   "cell_type": "code",
   "execution_count": null,
   "id": "d9667151",
   "metadata": {
    "vscode": {
     "languageId": "plaintext"
    }
   },
   "outputs": [],
   "source": [
    "# Nhóm theo ID khách hàng và tính tổng chi tiêu\n",
    "customer_spending = df.groupby('customerid')['revenue'].sum().sort_values(ascending=False)\n",
    "\n",
    "# Lấy top 10 khách hàng\n",
    "top_10_customers = customer_spending.head(10)\n",
    "\n",
    "# In ra top 10 khách hàng\n",
    "print(\"Top 10 khách hàng chi tiêu nhiều nhất:\")\n",
    "print(top_10_customers)\n",
    "\n",
    "# Vẽ biểu đồ\n",
    "plt.figure(figsize=(15, 7))\n",
    "sns.barplot(x=top_10_customers.index.astype(str), y=top_10_customers.values, palette='plasma', order=top_10_customers.index.astype(str))\n",
    "plt.title('Top 10 khách hàng chi tiêu nhiều nhất')\n",
    "plt.xlabel('Customer ID')\n",
    "plt.ylabel('Tổng chi tiêu')\n",
    "plt.show()"
   ]
  },
  {
   "cell_type": "code",
   "execution_count": null,
   "id": "9a50c06f",
   "metadata": {
    "vscode": {
     "languageId": "plaintext"
    }
   },
   "outputs": [],
   "source": [
    "# Nhóm theo mã sản phẩm và mô tả, tính tổng số lượng bán ra\n",
    "product_sales = df.groupby(['stockcode', 'description'])['quantity'].sum().sort_values(ascending=False)\n",
    "\n",
    "# Lấy top 10 sản phẩm\n",
    "top_10_products = product_sales.head(10)\n",
    "\n",
    "# In ra top 10 sản phẩm\n",
    "print(\"Top 10 sản phẩm bán chạy nhất:\")\n",
    "print(top_10_products)\n",
    "\n",
    "# Vẽ biểu đồ\n",
    "plt.figure(figsize=(15, 7))\n",
    "sns.barplot(y=top_10_products.index.get_level_values('description'), x=top_10_products.values, palette='magma')\n",
    "plt.title('Top 10 sản phẩm bán chạy nhất')\n",
    "plt.xlabel('Tổng số lượng đã bán')\n",
    "plt.ylabel('Sản phẩm')\n",
    "plt.show()"
   ]
  },
  {
   "cell_type": "code",
   "execution_count": null,
   "id": "de69b362",
   "metadata": {
    "vscode": {
     "languageId": "plaintext"
    }
   },
   "outputs": [],
   "source": [
    "Tóm tắt các insight chính:\n",
    "\n",
    "Doanh thu có xu hướng tăng mạnh vào cuối năm, đặc biệt là tháng 11.\n",
    "\n",
    "Thị trường Vương quốc Anh là thị trường cốt lõi, chiếm phần lớn doanh thu.\n",
    "\n",
    "Có một nhóm khách hàng VIP chi tiêu cao hơn hẳn so với phần còn lại.\n",
    "\n",
    "Xác định được các sản phẩm chủ lực cần tập trung."
   ]
  }
 ],
 "metadata": {
  "kernelspec": {
   "display_name": "Python 3 (ipykernel)",
   "language": "python",
   "name": "python3"
  },
  "language_info": {
   "codemirror_mode": {
    "name": "ipython",
    "version": 3
   },
   "file_extension": ".py",
   "mimetype": "text/x-python",
   "name": "python",
   "nbconvert_exporter": "python",
   "pygments_lexer": "ipython3",
   "version": "3.13.3"
  }
 },
 "nbformat": 4,
 "nbformat_minor": 5
}
